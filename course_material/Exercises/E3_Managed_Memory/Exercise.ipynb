{
 "cells": [
  {
   "cell_type": "markdown",
   "id": "2411e4f0-f856-4f32-b182-2b5f33e80883",
   "metadata": {},
   "source": [
    "# Exercise: Convert the GPU chessboard code to managed memory\n",
    "\n",
    "In this exercise we will use memory management information in Lesson 6 to convert the chessboard_GPU exercise to use managed memory.\n",
    "\n",
    "Below is a standard 8x8 chess board:\n",
    "\n",
    "<figure style=\"margin: 1em; margin-left:auto; margin-right:auto; width:70%;\">\n",
    "    <img src=\"../images/Chess_board.svg\">\n",
    "    <figcaption style= \"text-align:lower; margin:1em; float:bottom; vertical-align:bottom;\">A chess board of size 8x8.</figcaption>\n",
    "</figure>"
   ]
  },
  {
   "cell_type": "code",
   "execution_count": 1,
   "id": "5c7f6b7d-e75c-4807-b081-1174edeb5cc5",
   "metadata": {},
   "outputs": [],
   "source": [
    "import os\n",
    "os.environ['PATH'] = f\"{os.environ['PATH']}:../../../install/bin\""
   ]
  },
  {
   "cell_type": "markdown",
   "id": "d269a0ad-2a55-4e54-931e-c28272f39088",
   "metadata": {},
   "source": [
    "## The exercise (TLDR version)\n",
    "\n",
    "In the file [chessboard_mm.f90](chessboard_mm.f90) is the Fortran source, and in the file [kernel_code.cpp](kernel_code.cpp) is the C++ source that contains the `fill_chessboard` kernel. Both source files work and produce a correct result. Your task is to convert the memory allocation steps to use managed memory. The steps required are:\n",
    "\n",
    "0. Replace calls from `hipMalloc` to `hipMallocManaged` with the right arguments. \n",
    "1. Make sure the right memory is being passed to the kernel.\n",
    "2. Remove the call to hipMemcpy, why?."
   ]
  },
  {
   "cell_type": "markdown",
   "id": "34ebf810-9096-48b0-b35d-2edb8a3ea596",
   "metadata": {},
   "source": [
    "## Compile and run the exercise\n",
    "\n",
    "The code below compiles, installs and runs the `chessboard_GPU` program. Until all the pieces are in place  the code doesn't produce meaningful output."
   ]
  },
  {
   "cell_type": "code",
   "execution_count": 2,
   "id": "a007a0a9-2dcc-4b81-b9ee-a7e7a857add7",
   "metadata": {},
   "outputs": [
    {
     "name": "stdout",
     "output_type": "stream",
     "text": [
      "[ 16%] Built target kinds_lib\n",
      "[ 50%] Built target common_lib\n",
      "[100%] Built target chessboard_mm\n",
      "[  1%] Built target kinds_lib\n",
      "[  5%] Built target common_lib\n",
      "[  8%] Built target tensoradd_simple\n",
      "[ 11%] Built target tensoradd_allocatable\n",
      "[ 15%] Built target tensoradd_pointer\n",
      "[ 18%] Built target tensoradd_function\n",
      "[ 25%] Built target tensoradd_module\n",
      "[ 32%] Built target tensoradd_cfun\n",
      "[ 33%] Built target kernels_hipfort_example\n",
      "[ 37%] Built target tensoradd_hip_cptr\n",
      "[ 40%] Built target tensoradd_hip_fptr\n",
      "[ 45%] Built target tensoradd_hip_oo\n",
      "[ 49%] Built target chessboard_CPU_answer\n",
      "[ 52%] Built target chessboard_CPU\n",
      "[ 57%] Built target chessboard_GPU\n",
      "[ 62%] Built target chessboard_GPU_answer\n",
      "[ 67%] Built target chessboard_mm\n",
      "[ 72%] Built target chessboard_mm_answer\n",
      "[ 76%] Built target paged_mem\n",
      "[ 79%] Built target pinned_mem\n",
      "[ 83%] Built target managed_mem\n",
      "[ 86%] Built target memcpy_sync\n",
      "\u001b[35m\u001b[1mScanning dependencies of target memcpy_async\u001b[0m\n",
      "[ 89%] Built target memcpy_async\n",
      "[ 93%] Built target tensoradd_hip_pinned\n",
      "[ 96%] Built target tensoradd_hip_managed\n",
      "[100%] Built target memcpy_bench\n",
      "\u001b[36mInstall the project...\u001b[0m\n",
      "-- Install configuration: \"DEBUG\"\n",
      "-- Installing: /home/toby/Pelagos/Projects/Hipfort_Course/install/bin/memcpy_async\n",
      "0.0  1.0  0.0  1.0  0.0  1.0  0.0  1.0   \n",
      "1.0  0.0  1.0  0.0  1.0  0.0  1.0  0.0   \n",
      "0.0  1.0  0.0  1.0  0.0  1.0  0.0  1.0   \n",
      "1.0  0.0  1.0  0.0  1.0  0.0  1.0  0.0   \n",
      "0.0  1.0  0.0  1.0  0.0  1.0  0.0  1.0   \n",
      "1.0  0.0  1.0  0.0  1.0  0.0  1.0  0.0   \n",
      "0.0  1.0  0.0  1.0  0.0  1.0  0.0  1.0   \n",
      "1.0  0.0  1.0  0.0  1.0  0.0  1.0  0.0   \n"
     ]
    }
   ],
   "source": [
    "!build chessboard_mm; run chessboard_mm "
   ]
  },
  {
   "cell_type": "markdown",
   "id": "7fb320c0-b689-441a-bb26-521551514ea0",
   "metadata": {},
   "source": [
    "## Compile and run the answer\n",
    "\n",
    "In the code [chessboard_answer.f90](chessboard_answer.f90) is a simple solution to the problem. You're welcome to check the code for any help you might need."
   ]
  },
  {
   "cell_type": "code",
   "execution_count": 3,
   "id": "28deaa6e-33cd-4ff4-9a42-6488b9f1afcb",
   "metadata": {},
   "outputs": [
    {
     "name": "stdout",
     "output_type": "stream",
     "text": [
      "[ 16%] Built target kinds_lib\n",
      "[ 50%] Built target common_lib\n",
      "[100%] Built target chessboard_mm_answer\n",
      "[  1%] Built target kinds_lib\n",
      "[  5%] Built target common_lib\n",
      "[  8%] Built target tensoradd_simple\n",
      "[ 11%] Built target tensoradd_allocatable\n",
      "[ 15%] Built target tensoradd_pointer\n",
      "[ 18%] Built target tensoradd_function\n",
      "[ 25%] Built target tensoradd_module\n",
      "[ 32%] Built target tensoradd_cfun\n",
      "[ 33%] Built target kernels_hipfort_example\n",
      "[ 37%] Built target tensoradd_hip_cptr\n",
      "[ 40%] Built target tensoradd_hip_fptr\n",
      "[ 45%] Built target tensoradd_hip_oo\n",
      "[ 49%] Built target chessboard_CPU_answer\n",
      "[ 52%] Built target chessboard_CPU\n",
      "[ 57%] Built target chessboard_GPU\n",
      "[ 62%] Built target chessboard_GPU_answer\n",
      "[ 67%] Built target chessboard_mm\n",
      "[ 72%] Built target chessboard_mm_answer\n",
      "[ 76%] Built target paged_mem\n",
      "[ 79%] Built target pinned_mem\n",
      "[ 83%] Built target managed_mem\n",
      "[ 86%] Built target memcpy_sync\n",
      "[ 89%] Built target memcpy_async\n",
      "[ 93%] Built target tensoradd_hip_pinned\n",
      "[ 96%] Built target tensoradd_hip_managed\n",
      "[100%] Built target memcpy_bench\n",
      "\u001b[36mInstall the project...\u001b[0m\n",
      "-- Install configuration: \"DEBUG\"\n",
      "0.0  1.0  0.0  1.0  0.0  1.0  0.0  1.0   \n",
      "1.0  0.0  1.0  0.0  1.0  0.0  1.0  0.0   \n",
      "0.0  1.0  0.0  1.0  0.0  1.0  0.0  1.0   \n",
      "1.0  0.0  1.0  0.0  1.0  0.0  1.0  0.0   \n",
      "0.0  1.0  0.0  1.0  0.0  1.0  0.0  1.0   \n",
      "1.0  0.0  1.0  0.0  1.0  0.0  1.0  0.0   \n",
      "0.0  1.0  0.0  1.0  0.0  1.0  0.0  1.0   \n",
      "1.0  0.0  1.0  0.0  1.0  0.0  1.0  0.0   \n"
     ]
    }
   ],
   "source": [
    "!build chessboard_mm_answer; run chessboard_mm_answer"
   ]
  },
  {
   "cell_type": "code",
   "execution_count": null,
   "id": "96347f91-a68b-4c62-a54f-ecb3d6737741",
   "metadata": {},
   "outputs": [],
   "source": []
  }
 ],
 "metadata": {
  "kernelspec": {
   "display_name": "Python 3 (ipykernel)",
   "language": "python",
   "name": "python3"
  },
  "language_info": {
   "codemirror_mode": {
    "name": "ipython",
    "version": 3
   },
   "file_extension": ".py",
   "mimetype": "text/x-python",
   "name": "python",
   "nbconvert_exporter": "python",
   "pygments_lexer": "ipython3",
   "version": "3.10.12"
  }
 },
 "nbformat": 4,
 "nbformat_minor": 5
}
