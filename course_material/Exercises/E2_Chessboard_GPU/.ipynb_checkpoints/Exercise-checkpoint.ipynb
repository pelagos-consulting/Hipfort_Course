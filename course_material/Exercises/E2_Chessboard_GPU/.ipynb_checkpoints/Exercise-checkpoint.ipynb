{
 "cells": [
  {
   "cell_type": "markdown",
   "id": "a09fc945-0d92-4a5c-87e6-68096d76a9fd",
   "metadata": {},
   "source": [
    "# Exercise: Fill a chess board with a GPU!\n",
    "\n",
    "In order to solidify the topics learned in this module it is helpful to fill in the missing components of a hipFORT program. Below is a standard 8x8 chess board:\n",
    "\n",
    "<figure style=\"margin: 1em; margin-left:auto; margin-right:auto; width:70%;\">\n",
    "    <img src=\"../images/Chess_board.svg\">\n",
    "    <figcaption style= \"text-align:lower; margin:1em; float:bottom; vertical-align:bottom;\">A chess board of size 8x8.</figcaption>\n",
    "</figure>\n",
    "\n",
    "You may have already completed the CPU version of the chessboard exercise. In this exercise the goal is to use a hipFORT program to fill the chessboard. "
   ]
  },
  {
   "cell_type": "markdown",
   "id": "d27d3127-4c9b-4556-9689-fd922e9fa0fa",
   "metadata": {},
   "source": [
    "## Add the environment script to the PATH"
   ]
  },
  {
   "cell_type": "code",
   "execution_count": 2,
   "id": "839b55cf-3944-4b3f-92cf-54b5116e2614",
   "metadata": {},
   "outputs": [],
   "source": [
    "import os\n",
    "os.environ['PATH'] = f\"{os.environ['PATH']}:../../../install/bin\""
   ]
  },
  {
   "cell_type": "markdown",
   "id": "d269a0ad-2a55-4e54-931e-c28272f39088",
   "metadata": {},
   "source": [
    "## The exercise (TLDR version)\n",
    "\n",
    "In the file [chessboard_GPU.f90](chessboard_GPU.f90) is the Fortran source, and in the file [kernel_code.cpp](kernel_code.cpp) is the C++ source that contains the `fill_chessboard` kernel. Both source files have the basics already filled in. Your task is to insert the required Hipfort machinery to make all the pieces work. The steps required are:\n",
    "\n",
    "0. Finish implementing the `fill_chessboard` kernel in [kernel_code.cpp](kernel_code.cpp).\n",
    "1. Initialize the GPU in [chessboard_GPU.f90](chessboard_GPU.f90)\n",
    "2. Allocate memory for the chessboard on the compute device at Fortran pointer `B_d`.\n",
    "3. Launch the `fill_chessboard` kernel.\n",
    "4. Copy memory from `B_d` on the compute device to `B_h` on the host.\n",
    "5. Release memory for Fortran pointer `B_d`.\n",
    "6. Reset the compute device.\n",
    "\n",
    "## Choose your own adventure!\n",
    "\n",
    "Each task may be skipped by uncommenting the `include` statement for the shortcut solution. For example, in the file [kernel_code.cpp](kernel_code.cpp), the shortcut solution may be included by uncommenting the following line of text:\n",
    "\n",
    "```C++\n",
    "    // Uncomment this for the shortcut solution to Step 0.\n",
    "    //#include \"step0_kernel.h\"\n",
    "```\n",
    "\n",
    "In this way you can choose which parts of the exercise you want to complete. Wether it is one part or all parts. The choice is yours! If you are going to use a shortcut though, try to understand what the code in the `.h` file is doing."
   ]
  },
  {
   "cell_type": "markdown",
   "id": "d34ac51c-6502-450f-a0c3-34c27d0df51e",
   "metadata": {},
   "source": [
    "## The exercise (step by step)\n",
    "\n",
    "### Step 0 - Finish the kernel\n",
    "\n",
    "Fill out the missing pieces of the `fill_chessboard` kernel in [kernel_code.cpp](kernel_code.cpp). You will need to: \n",
    "\n",
    "* Ensure a guard is in place to prevent the GPU running off the end of the array, if the grid happens to be larger than the chessboard.\n",
    "* Use multidimensional indexing to compute an offset into `B` at coordinates (i0, i1). Remember we are using column-major ordering to compute the index into the allocation `B`\n",
    "* Something that might help with the math is to use modulo arithmetic. If we define `k` as an integer such that:\n",
    "\n",
    "```C++\n",
    "int k = i0 + i1 % 2;\n",
    "```\n",
    "and `light` and `dark` contain floating point values for light and dark cells, then we can use this formula to compute the value inside a chessboard:\n",
    "\n",
    "```C++\n",
    "float_type scratch = ((k+1)%2)*light + (k%2)*dark;\n",
    "```"
   ]
  },
  {
   "cell_type": "markdown",
   "id": "120e774a-e605-4b66-b834-47454e9e62c5",
   "metadata": {},
   "source": [
    "### Step 1 - Initialize the compute device\n",
    "\n",
    "In this step we need to intialize HIP and choose the GPU compute device. Open the source file [chessboard_GPU.f90](chessboard_GPU.f90) and look for the comment for `Step 1`. You may either use `init_device` from the `hip_utils` module or implement your own solution."
   ]
  },
  {
   "cell_type": "markdown",
   "id": "a3826295-540a-4e3f-80c5-100379353533",
   "metadata": {},
   "source": [
    "### Step 2 - Allocate device memory for the chessboard\n",
    "\n",
    "Here we need to allocate memory for the chessboard and make it available through the Fortran pointer `B_d`. You can use `hipMalloc` for this call."
   ]
  },
  {
   "cell_type": "markdown",
   "id": "4f1be44a-7093-443d-aae8-efe36e4897e7",
   "metadata": {},
   "source": [
    "### Step 3 - Call the C function to launch the kernel\n",
    "\n",
    "This step is similar to the example. In [kernel_code.cpp](kernel_code.cpp) there is a C function called `launch_kernel_hip` with the following signature:\n",
    "\n",
    "```C++\n",
    "    void launch_kernel_hip(\n",
    "            float_type* B, \n",
    "            float_type light,\n",
    "            float_type dark,\n",
    "            int M,\n",
    "            int N) {\n",
    "```\n",
    "\n",
    "Because this function is compiled with external C linkage, and we have an interface to it in [chessboard_GPU.f90](chessboard_GPU.f90) we can call it from Fortran. Use the `c_loc` function to get the C pointer from `B_d` and pass it to `launch_kernel_hip`."
   ]
  },
  {
   "cell_type": "markdown",
   "id": "d5d84b07-4b60-4513-95c4-2580a4f2ca72",
   "metadata": {},
   "source": [
    "### Step 4 - Copy the chessboard back from the compute device.\n",
    "\n",
    "In this step the task is to use `hipmemcpy` to copy the chessboard from `B_d` on the device to `B_h` on the host. You can use either the C or Fortran pointer methods for this task, keeping in mind that if using C pointers you need to specify **bytes** and if using Fortran pointers you need to specify **elements**."
   ]
  },
  {
   "cell_type": "markdown",
   "id": "d1e0e774-159c-4875-973a-6cc172cfccf4",
   "metadata": {},
   "source": [
    "### Step 5 - Free the device allocation\n",
    "\n",
    "After the memory is copied, the buffer `B_d` on the compute device is no longer needed. You can use `hipFree` to release the memory allocation on the GPU."
   ]
  },
  {
   "cell_type": "markdown",
   "id": "83783549-d119-495e-98d0-b210c0837a9c",
   "metadata": {},
   "source": [
    "### Step 6 - Reset the compute device\n",
    "\n",
    "When the program finishes, best practice is to reset the compute device and release all resources that have been allocated. You can either use `hipDeviceSynchronize` combined wth `hipDeviceReset` to reset the compute device's primary context, or you use use the `reset_device` subroutine from `hip_utils`."
   ]
  },
  {
   "cell_type": "markdown",
   "id": "34ebf810-9096-48b0-b35d-2edb8a3ea596",
   "metadata": {},
   "source": [
    "## Compile and run the exercise\n",
    "\n",
    "The code below compiles, installs and runs the `chessboard_GPU` program. Until all the pieces are in place  the code doesn't produce meaningful output."
   ]
  },
  {
   "cell_type": "code",
   "execution_count": 7,
   "id": "a007a0a9-2dcc-4b81-b9ee-a7e7a857add7",
   "metadata": {},
   "outputs": [
    {
     "name": "stdout",
     "output_type": "stream",
     "text": [
      "[ 16%] Built target kinds_lib\n",
      "[ 50%] Built target common_lib\n",
      "\u001b[35m\u001b[1mConsolidate compiler generated dependencies of target chessboard_GPU\u001b[0m\n",
      "[100%] Built target chessboard_GPU\n",
      "[  1%] Built target kinds_lib\n",
      "[  4%] Built target common_lib\n",
      "[  8%] Built target tensoradd_simple\n",
      "[ 11%] Built target tensoradd_allocatable\n",
      "[ 14%] Built target tensoradd_pointer\n",
      "[ 18%] Built target tensoradd_function\n",
      "[ 24%] Built target tensoradd_module\n",
      "[ 31%] Built target tensoradd_cfun\n",
      "[ 32%] Built target kernels_hipfort_example\n",
      "[ 36%] Built target tensoradd_hip_cptr\n",
      "[ 39%] Built target tensoradd_hip_fptr\n",
      "[ 44%] Built target tensoradd_hip_oo\n",
      "[ 47%] Built target chessboard_CPU_answer\n",
      "[ 50%] Built target chessboard_CPU\n",
      "[ 55%] Built target chessboard_GPU\n",
      "[ 60%] Built target chessboard_GPU_answer\n",
      "[ 67%] Built target chessboard_mm\n",
      "[ 73%] Built target chessboard_mm_answer\n",
      "[ 77%] Built target paged_mem\n",
      "[ 80%] Built target pinned_mem\n",
      "[ 83%] Built target managed_mem\n",
      "[ 86%] Built target memcpy_sync\n",
      "[ 90%] Built target memcpy_async\n",
      "[ 93%] Built target tensoradd_hip_pinned\n",
      "[ 96%] Built target tensoradd_hip_managed\n",
      "[100%] Built target memcpy_bench\n",
      "\u001b[36mInstall the project...\u001b[0m\n",
      "-- Install configuration: \"DEBUG\"\n",
      "0.0  0.0  0.0  0.0  0.0  0.0  ***  0.0   \n",
      "0.0  0.0  0.0  0.0  0.0  0.0  0.0  0.0   \n",
      "0.0  0.0  0.0  0.0  0.0  0.0  ***  0.0   \n",
      "0.0  0.0  0.0  -.0  0.0  0.0  0.0  -.0   \n",
      "0.0  0.0  0.0  0.0  0.0  0.0  0.0  0.0   \n",
      "0.0  0.0  0.0  0.0  0.0  0.0  0.0  0.0   \n",
      "0.0  0.0  0.0  0.0  0.0  0.0  0.0  0.0   \n",
      "0.0  0.0  0.0  0.0  0.0  0.0  0.0  0.0   \n"
     ]
    }
   ],
   "source": [
    "!build chessboard_GPU; run chessboard_GPU "
   ]
  },
  {
   "cell_type": "markdown",
   "id": "7fb320c0-b689-441a-bb26-521551514ea0",
   "metadata": {},
   "source": [
    "## Compile and run the answer\n",
    "\n",
    "In the code [chessboard_answer.f90](chessboard_answer.f90) is a simple solution to the problem. You're welcome to check the code for any help you might need."
   ]
  },
  {
   "cell_type": "code",
   "execution_count": 8,
   "id": "28deaa6e-33cd-4ff4-9a42-6488b9f1afcb",
   "metadata": {},
   "outputs": [
    {
     "name": "stdout",
     "output_type": "stream",
     "text": [
      "[ 16%] Built target kinds_lib\n",
      "[ 50%] Built target common_lib\n",
      "[100%] Built target chessboard_GPU_answer\n",
      "[  1%] Built target kinds_lib\n",
      "[  4%] Built target common_lib\n",
      "[  8%] Built target tensoradd_simple\n",
      "[ 11%] Built target tensoradd_allocatable\n",
      "[ 14%] Built target tensoradd_pointer\n",
      "[ 18%] Built target tensoradd_function\n",
      "[ 24%] Built target tensoradd_module\n",
      "[ 31%] Built target tensoradd_cfun\n",
      "[ 32%] Built target kernels_hipfort_example\n",
      "[ 36%] Built target tensoradd_hip_cptr\n",
      "[ 39%] Built target tensoradd_hip_fptr\n",
      "[ 44%] Built target tensoradd_hip_oo\n",
      "[ 47%] Built target chessboard_CPU_answer\n",
      "[ 50%] Built target chessboard_CPU\n",
      "[ 55%] Built target chessboard_GPU\n",
      "[ 60%] Built target chessboard_GPU_answer\n",
      "[ 67%] Built target chessboard_mm\n",
      "[ 73%] Built target chessboard_mm_answer\n",
      "[ 77%] Built target paged_mem\n",
      "[ 80%] Built target pinned_mem\n",
      "[ 83%] Built target managed_mem\n",
      "[ 86%] Built target memcpy_sync\n",
      "[ 90%] Built target memcpy_async\n",
      "[ 93%] Built target tensoradd_hip_pinned\n",
      "[ 96%] Built target tensoradd_hip_managed\n",
      "[100%] Built target memcpy_bench\n",
      "\u001b[36mInstall the project...\u001b[0m\n",
      "-- Install configuration: \"DEBUG\"\n",
      "0.0  1.0  0.0  1.0  0.0  1.0  0.0  1.0   \n",
      "1.0  0.0  1.0  0.0  1.0  0.0  1.0  0.0   \n",
      "0.0  1.0  0.0  1.0  0.0  1.0  0.0  1.0   \n",
      "1.0  0.0  1.0  0.0  1.0  0.0  1.0  0.0   \n",
      "0.0  1.0  0.0  1.0  0.0  1.0  0.0  1.0   \n",
      "1.0  0.0  1.0  0.0  1.0  0.0  1.0  0.0   \n",
      "0.0  1.0  0.0  1.0  0.0  1.0  0.0  1.0   \n",
      "1.0  0.0  1.0  0.0  1.0  0.0  1.0  0.0   \n"
     ]
    }
   ],
   "source": [
    "!build chessboard_GPU_answer; run chessboard_GPU_answer "
   ]
  },
  {
   "cell_type": "code",
   "execution_count": null,
   "id": "96347f91-a68b-4c62-a54f-ecb3d6737741",
   "metadata": {},
   "outputs": [],
   "source": []
  }
 ],
 "metadata": {
  "kernelspec": {
   "display_name": "Python 3 (ipykernel)",
   "language": "python",
   "name": "python3"
  },
  "language_info": {
   "codemirror_mode": {
    "name": "ipython",
    "version": 3
   },
   "file_extension": ".py",
   "mimetype": "text/x-python",
   "name": "python",
   "nbconvert_exporter": "python",
   "pygments_lexer": "ipython3",
   "version": "3.10.12"
  }
 },
 "nbformat": 4,
 "nbformat_minor": 5
}
